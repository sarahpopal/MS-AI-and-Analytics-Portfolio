{
 "cells": [
  {
   "cell_type": "code",
   "execution_count": 1,
   "id": "8c8d03df",
   "metadata": {},
   "outputs": [],
   "source": [
    "import pandas as pd\n",
    "import numpy as np\n",
    "from sklearn.model_selection import train_test_split, GridSearchCV\n",
    "from sklearn.ensemble import RandomForestClassifier, GradientBoostingClassifier\n",
    "from sklearn.metrics import classification_report, accuracy_score, confusion_matrix\n",
    "from sklearn.preprocessing import LabelEncoder\n",
    "import matplotlib.pyplot as plt\n",
    "import seaborn as sns"
   ]
  },
  {
   "cell_type": "code",
   "execution_count": 2,
   "id": "990ff6e1",
   "metadata": {},
   "outputs": [],
   "source": [
    "data_path = 'cleaned_housing_data.csv'\n",
    "data = pd.read_csv(data_path)\n",
    "data['mean_salary'] = pd.to_numeric(data['mean_salary'], errors='coerce')\n",
    "data['recycling_pct'] = pd.to_numeric(data['recycling_pct'], errors='coerce')\n",
    "data.drop(columns=['life_satisfaction', 'area_size'], inplace=True, errors='ignore')\n",
    "for column in data.columns:\n",
    "    if data[column].dtype == 'float64' or data[column].dtype == 'int64':\n",
    "        data[column].fillna(data[column].median(), inplace=True)\n",
    "    elif data[column].dtype == 'object':\n",
    "        data[column].fillna(data[column].mode()[0], inplace=True)\n",
    "data['year'] = pd.to_datetime(data['date']).dt.year"
   ]
  },
  {
   "cell_type": "code",
   "execution_count": 3,
   "id": "97e522d8",
   "metadata": {},
   "outputs": [],
   "source": [
    "new_data_path = 'housing_in_london_monthly_variables.csv'\n",
    "new_data = pd.read_csv(new_data_path)\n",
    "new_data['year'] = pd.to_datetime(new_data['date']).dt.year\n",
    "new_data['houses_sold'].fillna(new_data['houses_sold'].median(), inplace=True)\n",
    "new_data['no_of_crimes'].fillna(new_data['no_of_crimes'].median(), inplace=True)\n",
    "new_data = new_data.groupby(['area', 'year']).agg({\n",
    "    'average_price': 'mean',\n",
    "    'houses_sold': 'sum',\n",
    "    'no_of_crimes': 'sum'\n",
    "}).reset_index()"
   ]
  },
  {
   "cell_type": "code",
   "execution_count": 4,
   "id": "c27a36fd",
   "metadata": {},
   "outputs": [
    {
     "name": "stderr",
     "output_type": "stream",
     "text": [
      "/var/folders/fv/f582zb7n5kzffmz0v6_q_nfw0000gn/T/ipykernel_1729/171310470.py:4: FutureWarning: The default value of numeric_only in DataFrame.median is deprecated. In a future version, it will default to False. In addition, specifying 'numeric_only=None' is deprecated. Select only valid columns or specify the value of numeric_only to silence this warning.\n",
      "  merged_data.fillna(merged_data.median(), inplace=True)\n"
     ]
    }
   ],
   "source": [
    "merged_data = pd.merge(data, new_data, on=['area', 'year'], how='inner')\n",
    "merged_data.drop(columns=['date', 'code', 'recycling_pct'], inplace=True, errors='ignore')\n",
    "merged_data['mean_salary'] = pd.to_numeric(merged_data['mean_salary'], errors='coerce')\n",
    "merged_data.fillna(merged_data.median(), inplace=True)"
   ]
  },
  {
   "cell_type": "code",
   "execution_count": 5,
   "id": "58f36ffb",
   "metadata": {},
   "outputs": [],
   "source": [
    "encoder = LabelEncoder()\n",
    "merged_data['area'] = encoder.fit_transform(merged_data['area'])\n",
    "\n",
    "merged_data['affordability'] = pd.qcut(merged_data['mean_salary'], [0, 0.3, 0.7, 1], labels=['Low', 'Medium', 'High'])\n",
    "\n",
    "features = merged_data[['average_price', 'houses_sold', 'no_of_crimes', 'population_size']]\n",
    "target = merged_data['affordability']"
   ]
  },
  {
   "cell_type": "code",
   "execution_count": null,
   "id": "e38b0c22",
   "metadata": {},
   "outputs": [],
   "source": [
    "#correlation\n",
    "correlation_matrix = merged_data.corr()\n",
    "\n",
    "print(correlation_matrix)\n"
   ]
  },
  {
   "cell_type": "code",
   "execution_count": 6,
   "id": "8811e352",
   "metadata": {},
   "outputs": [
    {
     "name": "stdout",
     "output_type": "stream",
     "text": [
      "Fitting 3 folds for each of 108 candidates, totalling 324 fits\n"
     ]
    }
   ],
   "source": [
    "# Hyperparameter Grid for rf\n",
    "param_grid = {\n",
    "    'n_estimators': [50, 100, 200],\n",
    "    'max_depth': [None, 10, 20, 30],\n",
    "    'min_samples_split': [2, 5, 10],\n",
    "    'min_samples_leaf': [1, 2, 4]\n",
    "}\n",
    "\n",
    "grid_search = GridSearchCV(estimator=RandomForestClassifier(random_state=42),\n",
    "                           param_grid=param_grid, \n",
    "                           cv=3, \n",
    "                           n_jobs=-1, \n",
    "                           verbose=2)\n",
    "\n",
    "X_train, X_test, y_train, y_test = train_test_split(features, target, test_size=0.2, random_state=42)\n",
    "\n",
    "grid_search.fit(X_train, y_train)\n",
    "best_rf_classifier = grid_search.best_estimator_"
   ]
  },
  {
   "cell_type": "code",
   "execution_count": 7,
   "id": "858051bd",
   "metadata": {},
   "outputs": [
    {
     "name": "stdout",
     "output_type": "stream",
     "text": [
      "Best Parameters: {'max_depth': 10, 'min_samples_leaf': 2, 'min_samples_split': 2, 'n_estimators': 200}\n",
      "Accuracy: 0.7458563535911602\n",
      "Classification Report:\n",
      "               precision    recall  f1-score   support\n",
      "\n",
      "        High       0.76      0.65      0.70        49\n",
      "         Low       0.77      0.85      0.81        52\n",
      "      Medium       0.72      0.74      0.73        80\n",
      "\n",
      "    accuracy                           0.75       181\n",
      "   macro avg       0.75      0.75      0.75       181\n",
      "weighted avg       0.75      0.75      0.74       181\n",
      "\n"
     ]
    }
   ],
   "source": [
    "from sklearn.metrics import accuracy_score, classification_report\n",
    "\n",
    "y_pred_best_rf = best_rf_classifier.predict(X_test)\n",
    "\n",
    "accuracy_best_rf = accuracy_score(y_test, y_pred_best_rf)\n",
    "\n",
    "print(\"Best Parameters:\", grid_search.best_params_)\n",
    "print(\"Accuracy:\", accuracy_best_rf)\n",
    "print(\"Classification Report:\\n\", classification_report(y_test, y_pred_best_rf))\n"
   ]
  },
  {
   "cell_type": "code",
   "execution_count": 8,
   "id": "b694e510",
   "metadata": {},
   "outputs": [
    {
     "data": {
      "image/png": "[encoded data removed]",
      "text/plain": [
       "<Figure size 640x480 with 1 Axes>"
      ]
     },
     "metadata": {},
     "output_type": "display_data"
    }
   ],
   "source": [
    "# Feature Importances\n",
    "importances = best_rf_classifier.feature_importances_\n",
    "feature_names = features.columns\n",
    "sorted_indices = np.argsort(importances)[::-1]\n",
    "\n",
    "plt.figure()\n",
    "plt.title('Feature Importance')\n",
    "plt.bar(range(len(importances)), importances[sorted_indices], align='center')\n",
    "plt.xticks(range(len(importances)), feature_names[sorted_indices], rotation=90)\n",
    "plt.show()"
   ]
  },
  {
   "cell_type": "code",
   "execution_count": 9,
   "id": "010bec50",
   "metadata": {},
   "outputs": [
    {
     "data": {
      "image/png": "[encoded data removed]",
      "text/plain": [
       "<Figure size 1000x700 with 2 Axes>"
      ]
     },
     "metadata": {},
     "output_type": "display_data"
    }
   ],
   "source": [
    "from sklearn.metrics import confusion_matrix\n",
    "import seaborn as sns\n",
    "import matplotlib.pyplot as plt\n",
    "\n",
    "cm = confusion_matrix(y_test, y_pred_best_rf, labels=best_rf_classifier.classes_)\n",
    "\n",
    "plt.figure(figsize=(10, 7))\n",
    "sns.heatmap(cm, annot=True, fmt='d', cmap='Greens', xticklabels=best_rf_classifier.classes_, yticklabels=best_rf_classifier.classes_)\n",
    "plt.title('Confusion Matrix for Random Forest Classifier')\n",
    "plt.xlabel('Predicted Labels')\n",
    "plt.ylabel('True Labels')\n",
    "plt.show()\n"
   ]
  },
  {
   "cell_type": "code",
   "execution_count": 21,
   "id": "82c0cdaa",
   "metadata": {
    "scrolled": true
   },
   "outputs": [
    {
     "name": "stdout",
     "output_type": "stream",
     "text": [
      "Fitting 5 folds for each of 4 candidates, totalling 20 fits\n",
      "Best parameters found:  {'C': 1, 'kernel': 'linear'}\n",
      "Best cross-validation score: 0.65\n",
      "SVM Accuracy: 0.7403314917127072\n",
      "SVM Classification Report:\n",
      "               precision    recall  f1-score   support\n",
      "\n",
      "        High       0.81      0.51      0.62        49\n",
      "         Low       0.83      0.83      0.83        52\n",
      "      Medium       0.67      0.82      0.74        80\n",
      "\n",
      "    accuracy                           0.74       181\n",
      "   macro avg       0.77      0.72      0.73       181\n",
      "weighted avg       0.75      0.74      0.73       181\n",
      "\n"
     ]
    }
   ],
   "source": [
    "import pandas as pd\n",
    "from sklearn.svm import SVC\n",
    "from sklearn.model_selection import train_test_split, GridSearchCV\n",
    "from sklearn.metrics import accuracy_score, classification_report\n",
    "from sklearn.preprocessing import StandardScaler\n",
    "from sklearn.impute import SimpleImputer\n",
    "\n",
    "\n",
    "param_grid = {\n",
    "    'C': [0.1, 1, 10, 100],\n",
    "    'kernel': ['linear'] \n",
    "}\n",
    "\n",
    "svm_model = SVC()\n",
    "\n",
    "svm_grid = GridSearchCV(svm_model, param_grid, cv=5, scoring='accuracy', verbose=1)\n",
    "\n",
    "svm_grid.fit(X_train, y_train)\n",
    "\n",
    "print(\"Best parameters found: \", svm_grid.best_params_)\n",
    "print(\"Best cross-validation score: {:.2f}\".format(svm_grid.best_score_))\n",
    "\n",
    "y_pred_svm = svm_grid.best_estimator_.predict(X_test)\n",
    "\n",
    "accuracy_svm = accuracy_score(y_test, y_pred_svm)\n",
    "report_svm = classification_report(y_test, y_pred_svm)\n",
    "\n",
    "print(\"SVM Accuracy:\", accuracy_svm)\n",
    "print(\"SVM Classification Report:\\n\", report_svm)\n"
   ]
  },
  {
   "cell_type": "code",
   "execution_count": 11,
   "id": "4aec9e41",
   "metadata": {},
   "outputs": [
    {
     "name": "stdout",
     "output_type": "stream",
     "text": [
      "The best number of neighbors is 9\n",
      "KNN Accuracy: 0.7182320441988951\n",
      "KNN Classification Report:\n",
      "               precision    recall  f1-score   support\n",
      "\n",
      "        High       0.78      0.63      0.70        49\n",
      "         Low       0.72      0.83      0.77        52\n",
      "      Medium       0.69      0.70      0.70        80\n",
      "\n",
      "    accuracy                           0.72       181\n",
      "   macro avg       0.73      0.72      0.72       181\n",
      "weighted avg       0.72      0.72      0.72       181\n",
      "\n"
     ]
    }
   ],
   "source": [
    "###KNN###\n",
    "\n",
    "import numpy as np\n",
    "from sklearn.neighbors import KNeighborsClassifier\n",
    "from sklearn.model_selection import cross_val_score\n",
    "from sklearn.preprocessing import StandardScaler\n",
    "from sklearn.model_selection import train_test_split\n",
    "\n",
    "# Finding the best n\n",
    "n_neighbors_range = range(1, 31)\n",
    "accuracy_scores = []\n",
    "\n",
    "for n in n_neighbors_range:\n",
    "    knn = KNeighborsClassifier(n_neighbors=n)\n",
    "    scores = cross_val_score(knn, X_train2, y_train2, cv=10, scoring='accuracy')\n",
    "    accuracy_scores.append(scores.mean())\n",
    "\n",
    "best_n = n_neighbors_range[np.argmax(accuracy_scores)]\n",
    "best_accuracy = max(accuracy_scores)\n",
    "\n",
    "print(f\"The best number of neighbors is {best_n}\") \n",
    "\n",
    "knn_classifier = KNeighborsClassifier(n_neighbors=9)  \n",
    "\n",
    "knn_classifier.fit(X_train, y_train)\n",
    "y_pred_knn = knn_classifier.predict(X_test)\n",
    "accuracy_knn = accuracy_score(y_test, y_pred_knn)\n",
    "report_knn = classification_report(y_test, y_pred_knn)\n",
    "\n",
    "print(\"KNN Accuracy:\", accuracy_knn)\n",
    "print(\"KNN Classification Report:\\n\", report_knn)\n"
   ]
  },
  {
   "cell_type": "code",
   "execution_count": 12,
   "id": "ba0ff64a",
   "metadata": {},
   "outputs": [
    {
     "data": {
      "image/png": "[encoded data removed]",
      "text/plain": [
       "<Figure size 800x500 with 1 Axes>"
      ]
     },
     "metadata": {},
     "output_type": "display_data"
    }
   ],
   "source": [
    "import matplotlib.pyplot as plt\n",
    "\n",
    "accuracy_rf = 0.7458563535911602  \n",
    "accuracy_svm = 0.7403314917127072  \n",
    "accuracy_knn = 0.7182320441988951 \n",
    "accuracy_bag = 0.746\n",
    "accuracy_boost = 0.635\n",
    "accuracy_logreg = 0.525\n",
    "\n",
    "classifiers = ['Random Forest', 'Linear SVM', 'KNN', 'Bagging','Boosting','Logistic Regression']\n",
    "\n",
    "accuracies = [accuracy_rf, accuracy_svm, accuracy_knn, accuracy_bag, accuracy_boost, accuracy_logreg]\n",
    "\n",
    "plt.figure(figsize=(8, 5))\n",
    "bars = plt.bar(classifiers, accuracies, color=['#1f77b4', '#4a90e2', '#aec7e8','#728fce','#36454f','#123456','#0041c2'])\n",
    "plt.xlabel('Classifiers')\n",
    "plt.ylabel('Accuracy')\n",
    "plt.title('Comparison of Classifier Accuracies')\n",
    "plt.ylim(0.5, 1.0)\n",
    "\n",
    "for bar in bars:\n",
    "    yval = bar.get_height()\n",
    "    plt.text(bar.get_x() + bar.get_width()/2, yval, f'{yval:.3f}', ha='center', va='bottom')\n",
    "\n",
    "plt.show()\n"
   ]
  },
  {
   "cell_type": "code",
   "execution_count": 25,
   "id": "647623f7",
   "metadata": {},
   "outputs": [
    {
     "name": "stdout",
     "output_type": "stream",
     "text": [
      "Fitting 5 folds for each of 10 candidates, totalling 50 fits\n",
      "Best parameters found:  {'C': 1, 'solver': 'lbfgs'}\n",
      "Best cross-validation score: 0.66\n",
      "Logistic Regression Accuracy: 0.7403314917127072\n",
      "Logistic Regression Classification Report:\n",
      "               precision    recall  f1-score   support\n",
      "\n",
      "        High       0.79      0.53      0.63        49\n",
      "         Low       0.81      0.85      0.83        52\n",
      "      Medium       0.68      0.80      0.74        80\n",
      "\n",
      "    accuracy                           0.74       181\n",
      "   macro avg       0.76      0.73      0.73       181\n",
      "weighted avg       0.75      0.74      0.74       181\n",
      "\n"
     ]
    }
   ],
   "source": [
    "###LOGISTIC REGRESSION###\n",
    "\n",
    "\n",
    "from sklearn.linear_model import LogisticRegression\n",
    "from sklearn.model_selection import train_test_split, GridSearchCV\n",
    "from sklearn.metrics import accuracy_score, classification_report\n",
    "from sklearn.preprocessing import StandardScaler\n",
    "\n",
    "X = merged_data[['average_price', 'houses_sold', 'no_of_crimes', 'population_size']]\n",
    "y = merged_data['affordability']\n",
    "\n",
    "scaler = StandardScaler()\n",
    "X_scaled = scaler.fit_transform(X)\n",
    "\n",
    "X_train, X_test, y_train, y_test = train_test_split(X_scaled, y, test_size=0.2, random_state=42)\n",
    "\n",
    "param_grid = {\n",
    "    'C': [0.01, 0.1, 1, 10, 100],\n",
    "    'solver': ['liblinear', 'lbfgs']  \n",
    "}\n",
    "\n",
    "logreg_grid = GridSearchCV(LogisticRegression(), param_grid, cv=5, scoring='accuracy', verbose=1)\n",
    "logreg_grid.fit(X_train, y_train)\n",
    "\n",
    "print(\"Best parameters found: \", logreg_grid.best_params_)\n",
    "print(\"Best cross-validation score: {:.2f}\".format(logreg_grid.best_score_))\n",
    "\n",
    "y_pred_logreg = logreg_grid.best_estimator_.predict(X_test)\n",
    "\n",
    "print(\"Logistic Regression Accuracy:\", accuracy_score(y_test, y_pred_logreg))\n",
    "print(\"Logistic Regression Classification Report:\\n\", classification_report(y_test, y_pred_logreg))\n",
    "\n",
    "\n"
   ]
  },
  {
   "cell_type": "code",
   "execution_count": 23,
   "id": "640c3838",
   "metadata": {},
   "outputs": [
    {
     "name": "stdout",
     "output_type": "stream",
     "text": [
      "Fitting 5 folds for each of 12 candidates, totalling 60 fits\n",
      "Best parameters found:  {'max_features': 1.0, 'max_samples': 0.5, 'n_estimators': 100}\n",
      "Best cross-validation score: 0.75\n",
      "Bagging Classifier Accuracy: 0.7458563535911602\n",
      "Bagging Classifier Classification Report:\n",
      "               precision    recall  f1-score   support\n",
      "\n",
      "        High       0.72      0.69      0.71        49\n",
      "         Low       0.80      0.85      0.82        52\n",
      "      Medium       0.72      0.71      0.72        80\n",
      "\n",
      "    accuracy                           0.75       181\n",
      "   macro avg       0.75      0.75      0.75       181\n",
      "weighted avg       0.74      0.75      0.74       181\n",
      "\n"
     ]
    }
   ],
   "source": [
    "###BAGGING###\n",
    "\n",
    "from sklearn.ensemble import BaggingClassifier\n",
    "from sklearn.model_selection import train_test_split, GridSearchCV\n",
    "from sklearn.metrics import accuracy_score, classification_report\n",
    "from sklearn.preprocessing import StandardScaler\n",
    "\n",
    "X = merged_data[['average_price', 'houses_sold', 'no_of_crimes', 'population_size']]\n",
    "y = merged_data['affordability']\n",
    "\n",
    "scaler = StandardScaler()\n",
    "X_scaled = scaler.fit_transform(X)\n",
    "\n",
    "X_train, X_test, y_train, y_test = train_test_split(X_scaled, y, test_size=0.2, random_state=42)\n",
    "\n",
    "param_grid = {\n",
    "    'n_estimators': [10, 50, 100],\n",
    "    'max_samples': [0.5, 1.0],\n",
    "    'max_features': [0.5, 1.0]\n",
    "}\n",
    "\n",
    "bagging_grid = GridSearchCV(BaggingClassifier(), param_grid, cv=5, scoring='accuracy', verbose=1)\n",
    "bagging_grid.fit(X_train, y_train)\n",
    "\n",
    "print(\"Best parameters found: \", bagging_grid.best_params_)\n",
    "print(\"Best cross-validation score: {:.2f}\".format(bagging_grid.best_score_))\n",
    "\n",
    "y_pred_bagging = bagging_grid.best_estimator_.predict(X_test)\n",
    "\n",
    "print(\"Bagging Classifier Accuracy:\", accuracy_score(y_test, y_pred_bagging))\n",
    "print(\"Bagging Classifier Classification Report:\\n\", classification_report(y_test, y_pred_bagging))\n",
    "\n",
    "\n"
   ]
  },
  {
   "cell_type": "code",
   "execution_count": 24,
   "id": "548950e1",
   "metadata": {},
   "outputs": [
    {
     "name": "stdout",
     "output_type": "stream",
     "text": [
      "Fitting 5 folds for each of 9 candidates, totalling 45 fits\n",
      "Best parameters found:  {'learning_rate': 0.1, 'n_estimators': 100}\n",
      "Best cross-validation score: 0.69\n",
      "AdaBoost Accuracy: 0.7071823204419889\n",
      "AdaBoost Classification Report:\n",
      "               precision    recall  f1-score   support\n",
      "\n",
      "        High       0.81      0.51      0.62        49\n",
      "         Low       0.77      0.77      0.77        52\n",
      "      Medium       0.64      0.79      0.71        80\n",
      "\n",
      "    accuracy                           0.71       181\n",
      "   macro avg       0.74      0.69      0.70       181\n",
      "weighted avg       0.72      0.71      0.70       181\n",
      "\n"
     ]
    }
   ],
   "source": [
    "###ADABOOST###\n",
    "\n",
    "from sklearn.ensemble import AdaBoostClassifier\n",
    "from sklearn.tree import DecisionTreeClassifier\n",
    "from sklearn.model_selection import train_test_split, GridSearchCV\n",
    "from sklearn.metrics import accuracy_score, classification_report\n",
    "from sklearn.preprocessing import StandardScaler\n",
    "\n",
    "X = merged_data[['average_price', 'houses_sold', 'no_of_crimes', 'population_size']]\n",
    "y = merged_data['affordability']\n",
    "\n",
    "scaler = StandardScaler()\n",
    "X_scaled = scaler.fit_transform(X)\n",
    "\n",
    "X_train, X_test, y_train, y_test = train_test_split(X_scaled, y, test_size=0.2, random_state=42)\n",
    "\n",
    "param_grid = {\n",
    "    'n_estimators': [50, 100, 200],\n",
    "    'learning_rate': [0.01, 0.1, 1]\n",
    "}\n",
    "\n",
    "ada_grid = GridSearchCV(AdaBoostClassifier(DecisionTreeClassifier(max_depth=1)), param_grid, cv=5, scoring='accuracy', verbose=1)\n",
    "ada_grid.fit(X_train, y_train)\n",
    "\n",
    "print(\"Best parameters found: \", ada_grid.best_params_)\n",
    "print(\"Best cross-validation score: {:.2f}\".format(ada_grid.best_score_))\n",
    "\n",
    "y_pred_ada = ada_grid.best_estimator_.predict(X_test)\n",
    "\n",
    "print(\"AdaBoost Accuracy:\", accuracy_score(y_test, y_pred_ada))\n",
    "print(\"AdaBoost Classification Report:\\n\", classification_report(y_test, y_pred_ada))\n"
   ]
  },
  {
   "cell_type": "code",
   "execution_count": 22,
   "id": "c8b427f2",
   "metadata": {},
   "outputs": [
    {
     "name": "stdout",
     "output_type": "stream",
     "text": [
      "Fitting 5 folds for each of 4 candidates, totalling 20 fits\n",
      "Best parameters found:  {'var_smoothing': 1e-09}\n",
      "Best cross-validation score: 0.53\n",
      "Naive Bayes Accuracy: 0.48066298342541436\n",
      "Naive Bayes Classification Report:\n",
      "               precision    recall  f1-score   support\n",
      "\n",
      "        High       0.37      0.84      0.52        49\n",
      "         Low       0.69      0.79      0.74        52\n",
      "      Medium       0.42      0.06      0.11        80\n",
      "\n",
      "    accuracy                           0.48       181\n",
      "   macro avg       0.49      0.56      0.45       181\n",
      "weighted avg       0.48      0.48      0.40       181\n",
      "\n"
     ]
    }
   ],
   "source": [
    "###NAIVE BAYES###\n",
    "\n",
    "import pandas as pd\n",
    "from sklearn.naive_bayes import GaussianNB\n",
    "from sklearn.model_selection import train_test_split, GridSearchCV\n",
    "from sklearn.metrics import accuracy_score, classification_report\n",
    "from sklearn.preprocessing import StandardScaler\n",
    "\n",
    "X = merged_data[['average_price', 'houses_sold', 'no_of_crimes', 'population_size']]\n",
    "y = merged_data['affordability']\n",
    "\n",
    "scaler = StandardScaler()\n",
    "X_scaled = scaler.fit_transform(X)\n",
    "\n",
    "X_train, X_test, y_train, y_test = train_test_split(X_scaled, y, test_size=0.2, random_state=42)\n",
    "\n",
    "param_grid = {'var_smoothing': [1e-09, 1e-08, 1e-07, 1e-06]}\n",
    "\n",
    "nb_grid = GridSearchCV(GaussianNB(), param_grid, cv=5, scoring='accuracy', verbose=1)\n",
    "nb_grid.fit(X_train, y_train)\n",
    "\n",
    "print(\"Best parameters found: \", nb_grid.best_params_)\n",
    "print(\"Best cross-validation score: {:.2f}\".format(nb_grid.best_score_))\n",
    "\n",
    "y_pred_nb = nb_grid.best_estimator_.predict(X_test)\n",
    "\n",
    "print(\"Naive Bayes Accuracy:\", accuracy_score(y_test, y_pred_nb))\n",
    "print(\"Naive Bayes Classification Report:\\n\", classification_report(y_test, y_pred_nb))\n",
    "\n"
   ]
  }
 ],
 "metadata": {
  "kernelspec": {
   "display_name": "Python 3 (ipykernel)",
   "language": "python",
   "name": "python3"
  },
  "language_info": {
   "codemirror_mode": {
    "name": "ipython",
    "version": 3
   },
   "file_extension": ".py",
   "mimetype": "text/x-python",
   "name": "python",
   "nbconvert_exporter": "python",
   "pygments_lexer": "ipython3",
   "version": "3.11.4"
  }
 },
 "nbformat": 4,
 "nbformat_minor": 5
}
